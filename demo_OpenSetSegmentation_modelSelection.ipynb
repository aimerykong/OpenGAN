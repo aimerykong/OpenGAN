{
 "cells": [
  {
   "cell_type": "markdown",
   "metadata": {},
   "source": [
    "OpenGAN: Open-Set Recognition via Open Data Generation\n",
    "================\n",
    "**Supplemental Material for ICCV2021 Submission**\n",
    "\n",
    "\n",
    "In this notebook is for demonstrating open-set semantic segmentation, especially for model selection in this task."
   ]
  },
  {
   "cell_type": "markdown",
   "metadata": {},
   "source": [
    "import packages\n",
    "------------------\n",
    "\n",
    "Some packages are installed automatically through Anaconda. PyTorch should be also installed."
   ]
  },
  {
   "cell_type": "code",
   "execution_count": 1,
   "metadata": {},
   "outputs": [
    {
     "name": "stdout",
     "output_type": "stream",
     "text": [
      "3.7.4 (default, Aug 13 2019, 20:35:49) \n",
      "[GCC 7.3.0]\n",
      "1.4.0+cu92\n"
     ]
    }
   ],
   "source": [
    "from __future__ import print_function, division\n",
    "import os, random, time, copy, scipy, pickle, sys, math, json, pickle\n",
    "\n",
    "import argparse, pprint, shutil, logging, time, timeit\n",
    "from pathlib import Path\n",
    "\n",
    "from skimage import io, transform\n",
    "import numpy as np\n",
    "import os.path as path\n",
    "import scipy.io as sio\n",
    "from scipy import misc\n",
    "from scipy import ndimage, signal\n",
    "import matplotlib.pyplot as plt\n",
    "# import PIL.Image\n",
    "from PIL import Image\n",
    "from io import BytesIO\n",
    "from skimage import data, img_as_float\n",
    "from skimage.measure import compare_ssim as ssim\n",
    "from skimage.measure import compare_psnr as psnr\n",
    "\n",
    "import torch, torchvision\n",
    "from torch.utils.data import Dataset, DataLoader\n",
    "import torch.nn as nn\n",
    "import torch.optim as optim\n",
    "from torch.optim import lr_scheduler \n",
    "import torch.nn.functional as F\n",
    "from torch.autograd import Variable\n",
    "from torchvision import datasets, models, transforms\n",
    "import torchvision.utils as vutils\n",
    "from collections import namedtuple\n",
    "\n",
    "from config_HRNet import models\n",
    "from config_HRNet import seg_hrnet\n",
    "from config_HRNet import config\n",
    "from config_HRNet import update_config\n",
    "from config_HRNet.modelsummary  import *\n",
    "from config_HRNet.utils import *\n",
    "\n",
    "\n",
    "from utils.dataset_tinyimagenet import *\n",
    "from utils.dataset_cityscapes4OpenGAN import *\n",
    "from utils.eval_funcs import *\n",
    "\n",
    "\n",
    "import warnings # ignore warnings\n",
    "warnings.filterwarnings(\"ignore\")\n",
    "print(sys.version)\n",
    "print(torch.__version__)\n",
    "\n",
    "# %load_ext autoreload\n",
    "# %autoreload 2"
   ]
  },
  {
   "cell_type": "markdown",
   "metadata": {},
   "source": [
    "Setup config parameters\n",
    " -----------------\n",
    " \n",
    " There are several things to setup, like which GPU to use, where to read images and save files, etc. Please read and understand this. By default, you should be able to run this script smoothly by changing nothing."
   ]
  },
  {
   "cell_type": "code",
   "execution_count": 2,
   "metadata": {},
   "outputs": [
    {
     "name": "stdout",
     "output_type": "stream",
     "text": [
      "./exp/step030_OpenGAN_num1000_w0.20\n"
     ]
    }
   ],
   "source": [
    "# set the random seed\n",
    "torch.manual_seed(10)\n",
    "\n",
    "\n",
    "################## set attributes for this project/experiment ##################\n",
    "# config result folder\n",
    "exp_dir = './exp' # experiment directory, used for reading the init model\n",
    "\n",
    "num_valimages = 1000\n",
    "weight_adversarialLoss = 0.20\n",
    "project_name = 'step030_OpenGAN_num{}_w{:.2f}'.format(num_valimages,weight_adversarialLoss)\n",
    "\n",
    "\n",
    "device ='cpu'\n",
    "if torch.cuda.is_available(): \n",
    "    device='cuda:0'\n",
    "    \n",
    "\n",
    "totalEpoch = 29 # the total number of models cached (we adopt early termination)\n",
    "\n",
    "\n",
    "ganBatchSize = 1000\n",
    "batch_size = 1\n",
    "newsize = (-1,-1)\n",
    "\n",
    "total_epoch_num = 150 # total number of epoch in training\n",
    "insertConv = False    \n",
    "embDimension = 64\n",
    "#isPretrained = False\n",
    "\n",
    "\n",
    "# Number of channels in the training images. For color images this is 3\n",
    "nc = 720\n",
    "# Size of z latent vector (i.e. size of generator input)\n",
    "nz = 64\n",
    "# Size of feature maps in generator\n",
    "ngf = 64\n",
    "# Size of feature maps in discriminator\n",
    "ndf = 64\n",
    "# Beta1 hyperparam for Adam optimizers\n",
    "beta1 = 0.5\n",
    "# Number of GPUs available. Use 0 for CPU mode.\n",
    "ngpu = 1\n",
    "\n",
    "\n",
    "\n",
    "nClassTotal = 10\n",
    "nClassCloseset = 6\n",
    "runIdx = 0\n",
    "\n",
    "\n",
    "save_dir = os.path.join(exp_dir, project_name)\n",
    "if not os.path.exists(exp_dir): os.makedirs(exp_dir)\n",
    "\n",
    "lr = 0.0001 # base learning rate\n",
    "\n",
    "num_epochs = total_epoch_num\n",
    "torch.cuda.device_count()\n",
    "torch.cuda.empty_cache()\n",
    "\n",
    "save_dir = os.path.join(exp_dir, project_name)\n",
    "print(save_dir)    \n",
    "if not os.path.exists(save_dir): os.makedirs(save_dir)\n",
    "\n",
    "log_filename = os.path.join(save_dir, 'train.log')"
   ]
  },
  {
   "cell_type": "markdown",
   "metadata": {},
   "source": [
    "Define model architecture\n",
    "---------\n",
    "\n",
    "Here is the definition of the model architecture. "
   ]
  },
  {
   "cell_type": "code",
   "execution_count": 3,
   "metadata": {},
   "outputs": [],
   "source": [
    "parser = argparse.ArgumentParser(description='Train segmentation network') \n",
    "parser.add_argument('--cfg',\n",
    "                    help='experiment configure file name',\n",
    "                    default='./config_HRNet/seg_hrnet_w48_train_512x1024_sgd_lr1e-2_wd5e-4_bs_12_epoch484.yaml',\n",
    "                    type=str)\n",
    "parser.add_argument('opts',\n",
    "                    help=\"Modify config options using the command-line\",\n",
    "                    default=None,\n",
    "                    nargs=argparse.REMAINDER)\n",
    "\n",
    "\n",
    "args = parser.parse_args(r'--cfg  ./config_HRNet/seg_hrnet_w48_train_512x1024_sgd_lr1e-2_wd5e-4_bs_12_epoch484.yaml ')\n",
    "args.opts = []\n",
    "update_config(config, args)\n",
    "\n",
    "\n",
    "\n",
    "\n",
    "\n",
    "\n",
    "model = eval(config.MODEL.NAME + '.get_seg_model_myModel')(config)\n",
    "model_dict = model.state_dict()\n",
    "\n",
    "model_state_file = '../openset/models/hrnet_w48_cityscapes_cls19_1024x2048_ohem_trainset.pth'\n",
    "pretrained_dict = torch.load(model_state_file, map_location=lambda storage, loc: storage)\n",
    "\n",
    "suppl_dict = {}\n",
    "suppl_dict['last_1_conv.weight'] = pretrained_dict['model.last_layer.0.weight'].clone()\n",
    "suppl_dict['last_1_conv.bias'] = pretrained_dict['model.last_layer.0.bias'].clone()\n",
    "\n",
    "suppl_dict['last_2_BN.running_mean'] = pretrained_dict['model.last_layer.1.running_mean'].clone()\n",
    "suppl_dict['last_2_BN.running_var'] = pretrained_dict['model.last_layer.1.running_var'].clone()\n",
    "# suppl_dict['last_2_BN.num_batches_tracked'] = pretrained_dict['model.last_layer.1.num_batches_tracked']\n",
    "suppl_dict['last_2_BN.weight'] = pretrained_dict['model.last_layer.1.weight'].clone()\n",
    "suppl_dict['last_2_BN.bias'] = pretrained_dict['model.last_layer.1.bias'].clone()\n",
    "\n",
    "suppl_dict['last_4_conv.weight'] = pretrained_dict['model.last_layer.3.weight'].clone()\n",
    "suppl_dict['last_4_conv.bias'] = pretrained_dict['model.last_layer.3.bias'].clone()\n",
    "\n",
    "\n",
    "pretrained_dict = {k[6:]: v for k, v in pretrained_dict.items()\n",
    "                   if k[6:] in model_dict.keys()}\n",
    "\n",
    "model_dict.update(pretrained_dict)\n",
    "model_dict.update(suppl_dict)\n",
    "model.load_state_dict(model_dict)\n",
    "\n",
    "model.eval();\n",
    "model.to(device);"
   ]
  },
  {
   "cell_type": "code",
   "execution_count": 4,
   "metadata": {},
   "outputs": [],
   "source": [
    "def weights_init(m):\n",
    "    classname = m.__class__.__name__\n",
    "    if classname.find('Conv') != -1:\n",
    "        nn.init.normal_(m.weight.data, 0.0, 0.02)\n",
    "    elif classname.find('BatchNorm') != -1:\n",
    "        nn.init.normal_(m.weight.data, 1.0, 0.02)\n",
    "        nn.init.constant_(m.bias.data, 0)     \n",
    "        \n",
    "\n",
    "class Generator(nn.Module):\n",
    "    def __init__(self, ngpu=1, nz=100, ngf=64, nc=512):\n",
    "        super(Generator, self).__init__()\n",
    "        self.ngpu = ngpu\n",
    "        self.nz = nz\n",
    "        self.ngf = ngf\n",
    "        self.nc = nc\n",
    "        \n",
    "        self.main = nn.Sequential(\n",
    "            # input is Z, going into a convolution\n",
    "            nn.Conv2d( self.nz, self.ngf * 8, 1, 1, 0, bias=True),\n",
    "            nn.BatchNorm2d(self.ngf * 8),\n",
    "            nn.ReLU(True),\n",
    "            # state size. (self.ngf*8) x 4 x 4\n",
    "            nn.Conv2d(self.ngf * 8, self.ngf * 4, 1, 1, 0, bias=True),\n",
    "            nn.BatchNorm2d(self.ngf * 4),\n",
    "            nn.ReLU(True),\n",
    "            # state size. (self.ngf*4) x 8 x 8\n",
    "            nn.Conv2d( self.ngf * 4, self.ngf * 2, 1, 1, 0, bias=True),\n",
    "            nn.BatchNorm2d(self.ngf * 2),\n",
    "            nn.ReLU(True),\n",
    "            # state size. (self.ngf*2) x 16 x 16\n",
    "            nn.Conv2d( self.ngf * 2, self.ngf*4, 1, 1, 0, bias=True),\n",
    "            nn.BatchNorm2d(self.ngf*4),\n",
    "            nn.ReLU(True),\n",
    "            # state size. (self.ngf) x 32 x 32\n",
    "            nn.Conv2d( self.ngf*4, self.nc, 1, 1, 0, bias=True),\n",
    "            #nn.Tanh()\n",
    "            # state size. (self.nc) x 64 x 64\n",
    "        )\n",
    "\n",
    "    def forward(self, input):\n",
    "        return self.main(input)\n",
    "\n",
    "    \n",
    "class Discriminator(nn.Module):\n",
    "    def __init__(self, ngpu=1, nc=512, ndf=64):\n",
    "        super(Discriminator, self).__init__()\n",
    "        self.ngpu = ngpu\n",
    "        self.nc = nc\n",
    "        self.ndf = ndf\n",
    "        self.main = nn.Sequential(\n",
    "            nn.Conv2d(self.nc, self.ndf*8, 1, 1, 0, bias=True),\n",
    "            nn.LeakyReLU(0.2, inplace=True),\n",
    "            nn.Conv2d(self.ndf*8, self.ndf*4, 1, 1, 0, bias=True),\n",
    "            nn.BatchNorm2d(self.ndf*4),\n",
    "            nn.LeakyReLU(0.2, inplace=True),\n",
    "            nn.Conv2d(self.ndf*4, self.ndf*2, 1, 1, 0, bias=True),\n",
    "            nn.BatchNorm2d(self.ndf*2),\n",
    "            nn.LeakyReLU(0.2, inplace=True),\n",
    "            nn.Conv2d(self.ndf*2, self.ndf, 1, 1, 0, bias=True),\n",
    "            nn.BatchNorm2d(self.ndf),\n",
    "            nn.LeakyReLU(0.2, inplace=True),\n",
    "            nn.Conv2d(self.ndf, 1, 1, 1, 0, bias=True),\n",
    "            nn.Sigmoid()\n",
    "        )\n",
    "\n",
    "    def forward(self, input):\n",
    "        return self.main(input)"
   ]
  },
  {
   "cell_type": "code",
   "execution_count": 5,
   "metadata": {},
   "outputs": [],
   "source": [
    "bestEpoch_GAN = 1 # random checkpoint for sanity check \n",
    "\n",
    "# netG = Generator(ngpu=ngpu, nz=nz, ngf=ngf, nc=nc).to(device)\n",
    "netD = Discriminator(ngpu=ngpu, nc=nc, ndf=ndf).to(device)\n",
    "\n",
    "\n",
    "# path_to_G = os.path.join(save_dir, 'epoch-{}.GNet'.format(bestEpoch_GAN))\n",
    "path_to_D = os.path.join(save_dir, 'epoch-{}.classifier'.format(bestEpoch_GAN))\n",
    "# netG.load_state_dict(torch.load(path_to_G))\n",
    "netD.load_state_dict(torch.load(path_to_D, map_location=lambda storage, loc: storage))\n",
    "\n",
    "# netG.eval()\n",
    "netD.eval();"
   ]
  },
  {
   "cell_type": "markdown",
   "metadata": {},
   "source": [
    "setup dataset\n",
    "-----------"
   ]
  },
  {
   "cell_type": "code",
   "execution_count": 6,
   "metadata": {},
   "outputs": [
    {
     "name": "stdout",
     "output_type": "stream",
     "text": [
      "2900 10 500\n"
     ]
    }
   ],
   "source": [
    "# torchvision.transforms.Normalize(mean, std, inplace=False)\n",
    "imgTransformList = transforms.Compose([\n",
    "    transforms.ToTensor(),\n",
    "    transforms.Normalize((0.485, 0.456, 0.406), (0.229, 0.224, 0.225)),\n",
    "])\n",
    "\n",
    "targetTransformList = transforms.Compose([\n",
    "    transforms.ToTensor(),    \n",
    "])\n",
    "\n",
    "\n",
    "trainset = Cityscapes(root='/scratch/dataset/Cityscapes',\n",
    "                             newsize=newsize, split='train', trainnum=2900, mode='fine', target_type='semantic',\n",
    "                             transform=imgTransformList, target_transform=targetTransformList,\n",
    "                             transforms=None)\n",
    "\n",
    "# -10 means we fetch the last 10 images as our validation set\n",
    "valset = Cityscapes(root='/scratch/dataset/Cityscapes',\n",
    "                             newsize=newsize, split='train', trainnum=-10, mode='fine', target_type='semantic',\n",
    "                             transform=imgTransformList, target_transform=targetTransformList,\n",
    "                             transforms=None)\n",
    "\n",
    "testset = Cityscapes(root='/scratch/dataset/Cityscapes',\n",
    "                             newsize=newsize, split='val', mode='fine', target_type='semantic',\n",
    "                             transform=imgTransformList, target_transform=targetTransformList,\n",
    "                             transforms=None)\n",
    "\n",
    "\n",
    "\n",
    "dataloader_test = DataLoader(testset, batch_size=batch_size, shuffle=False, num_workers=4)\n",
    "dataloader_val = DataLoader(valset, batch_size=batch_size, shuffle=False, num_workers=4)\n",
    "dataloader_train = DataLoader(trainset, batch_size=batch_size, shuffle=True, num_workers=4)\n",
    "\n",
    "\n",
    "print(len(trainset), len(valset), len(testset))\n",
    "classDictionary = trainset.classes"
   ]
  },
  {
   "cell_type": "code",
   "execution_count": 7,
   "metadata": {},
   "outputs": [
    {
     "name": "stdout",
     "output_type": "stream",
     "text": [
      "0 unlabeled\n",
      "1 ego vehicle\n",
      "2 rectification border\n",
      "3 out of roi\n",
      "4 static\n",
      "5 dynamic\n",
      "6 ground\n",
      "9 parking\n",
      "10 rail track\n",
      "14 guard rail\n",
      "15 bridge\n",
      "16 tunnel\n",
      "18 polegroup\n",
      "29 caravan\n",
      "30 trailer\n",
      "34 license plate\n",
      "total# 16\n"
     ]
    }
   ],
   "source": [
    "id2trainID = {}\n",
    "id2color = {}\n",
    "trainID2color = {}\n",
    "id2name = {}\n",
    "opensetIDlist = []\n",
    "for i in range(len(classDictionary)):\n",
    "    id2trainID[i] = classDictionary[i][2]\n",
    "    id2color[i] = classDictionary[i][-1]\n",
    "    trainID2color[classDictionary[i][2]] = classDictionary[i][-1]\n",
    "    id2name[i] = classDictionary[i][0]\n",
    "    if classDictionary[i][-2]:\n",
    "        opensetIDlist += [i]\n",
    "\n",
    "id2trainID_list = []\n",
    "for i in range(len(id2trainID)):\n",
    "    id2trainID_list.append(id2trainID[i])\n",
    "id2trainID_np = np.asarray(id2trainID_list)        \n",
    "        \n",
    "for elm in opensetIDlist:\n",
    "    print(elm, id2name[elm])\n",
    "print('total# {}'.format(len(opensetIDlist)))"
   ]
  },
  {
   "cell_type": "markdown",
   "metadata": {},
   "source": [
    "testing a single image\n",
    "-----------"
   ]
  },
  {
   "cell_type": "code",
   "execution_count": 8,
   "metadata": {},
   "outputs": [
    {
     "name": "stdout",
     "output_type": "stream",
     "text": [
      "torch.Size([1, 3, 1024, 2048]) torch.Size([256, 512]) torch.Size([1, 256, 512])\n"
     ]
    }
   ],
   "source": [
    "data_sampler = iter(dataloader_train)\n",
    "data = next(data_sampler)\n",
    "imageList, labelList = data[0], data[1]\n",
    "imageList = imageList.to(device)\n",
    "labelList = labelList.to(device)\n",
    "\n",
    "labelList = labelList.unsqueeze(1)\n",
    "labelList = F.interpolate(labelList, scale_factor=0.25, mode='nearest')\n",
    "labelList = labelList.squeeze()\n",
    "labelList.shape\n",
    "\n",
    "H, W = labelList.squeeze().shape\n",
    "trainlabelList = id2trainID_np[labelList.cpu().numpy().reshape(-1,).astype(np.int32)]\n",
    "trainlabelList = trainlabelList.reshape((1,H,W))\n",
    "trainlabelList = torch.from_numpy(trainlabelList)\n",
    "\n",
    "print(imageList.shape, labelList.shape, trainlabelList.shape)"
   ]
  },
  {
   "cell_type": "code",
   "execution_count": 9,
   "metadata": {},
   "outputs": [],
   "source": [
    "# Initialize BCELoss function\n",
    "criterion = nn.BCELoss()\n",
    "\n",
    "# Establish convention for real and fake labels during training\n",
    "real_label = 1\n",
    "fake_label = 0\n",
    "\n",
    "upsampleFunc = nn.UpsamplingBilinear2d(scale_factor=4)\n",
    "with torch.no_grad():\n",
    "    imageList = imageList.to(device)\n",
    "    logitsTensor = model(imageList).detach().cpu()\n",
    "    #logitsTensor = upsampleFunc(logitsTensor)\n",
    "    softmaxTensor = F.softmax(logitsTensor, dim=1)    \n",
    "    feat1Tensor = model.feat1.detach()\n",
    "    feat2Tensor = model.feat2.detach()\n",
    "    feat3Tensor = model.feat3.detach()\n",
    "    feat4Tensor = model.feat4.detach()\n",
    "    feat5Tensor = model.feat5.detach()\n",
    "    torch.cuda.empty_cache()"
   ]
  },
  {
   "cell_type": "code",
   "execution_count": 10,
   "metadata": {},
   "outputs": [
    {
     "name": "stdout",
     "output_type": "stream",
     "text": [
      "torch.Size([131072])\n"
     ]
    }
   ],
   "source": [
    "allPixList = feat4Tensor.squeeze()\n",
    "allPixList = allPixList.reshape(allPixList.shape[0], -1).permute(1,0).unsqueeze(-1).unsqueeze(-1).to(device)\n",
    "with torch.no_grad():\n",
    "    allPixConf = netD(allPixList).view(-1)\n",
    "    \n",
    "print(allPixConf.shape)"
   ]
  },
  {
   "cell_type": "code",
   "execution_count": 11,
   "metadata": {},
   "outputs": [
    {
     "name": "stdout",
     "output_type": "stream",
     "text": [
      "123188\n"
     ]
    }
   ],
   "source": [
    "closesetList = trainlabelList.reshape(-1,1)\n",
    "closesetList = ((closesetList>=0) & (closesetList<=18)).nonzero()\n",
    "closesetList = closesetList[:,0]\n",
    "#closesetList = closesetList[torch.randperm(closesetList.size()[0])]\n",
    "#closesetList = closesetList[:ganBatchSize]\n",
    "print(len(closesetList))"
   ]
  },
  {
   "cell_type": "code",
   "execution_count": 12,
   "metadata": {},
   "outputs": [
    {
     "name": "stdout",
     "output_type": "stream",
     "text": [
      "torch.Size([123188, 1])\n"
     ]
    }
   ],
   "source": [
    "predConfidence_closeset = torch.from_numpy(np.array([0])).type(torch.float).view(-1,1)\n",
    "\n",
    "predConf = allPixConf[closesetList]\n",
    "predConf = predConf.view(-1,1).detach()\n",
    "\n",
    "\n",
    "predConfidence_closeset = torch.cat((predConfidence_closeset, predConf.detach().cpu()), 0)\n",
    "print(predConf.shape)"
   ]
  },
  {
   "cell_type": "code",
   "execution_count": 13,
   "metadata": {},
   "outputs": [
    {
     "name": "stdout",
     "output_type": "stream",
     "text": [
      "not existing --  0 tensor(0., device='cuda:0')\n",
      "1 ego vehicle\n",
      "not existing --  2 tensor(0., device='cuda:0')\n",
      "3 out of roi\n",
      "4 static\n",
      "not existing --  5 tensor(0., device='cuda:0')\n",
      "6 ground\n",
      "not existing --  9 tensor(0., device='cuda:0')\n",
      "not existing --  10 tensor(0., device='cuda:0')\n",
      "not existing --  14 tensor(0., device='cuda:0')\n",
      "not existing --  15 tensor(0., device='cuda:0')\n",
      "not existing --  16 tensor(0., device='cuda:0')\n",
      "not existing --  18 tensor(0., device='cuda:0')\n",
      "not existing --  29 tensor(0., device='cuda:0')\n",
      "not existing --  30 tensor(0., device='cuda:0')\n",
      "not existing --  34 tensor(0., device='cuda:0')\n"
     ]
    }
   ],
   "source": [
    "predConfidence_opensetlist = [torch.from_numpy(np.array([0])).type(torch.float).view(-1,1)]*len(opensetIDlist)\n",
    "\n",
    "for i in range(len(opensetIDlist)):\n",
    "    clsID = opensetIDlist[i]\n",
    "    tmpMap = (labelList==clsID).type(torch.float32)\n",
    "    tmpCount = tmpMap.sum()    \n",
    "    if tmpCount==0:   \n",
    "        print('not existing -- ', clsID, tmpCount)\n",
    "        continue\n",
    "                    \n",
    "    curClsList = labelList.reshape(-1,1)\n",
    "    curClsList = (curClsList==clsID).nonzero()\n",
    "    curClsList = curClsList[:,0]\n",
    "    \n",
    "    predConf = allPixConf[curClsList]\n",
    "    predConf = predConf.view(-1,1).detach()\n",
    "        \n",
    "    predConfidence_opensetlist[i] = torch.cat((predConfidence_opensetlist[i], predConf.detach().cpu()), 0)      \n",
    "    print(clsID, id2name[clsID])\n",
    "    \n",
    "    \n",
    "    \n",
    "    \n",
    "for i in range(len(opensetIDlist)):\n",
    "    predConfidence_opensetlist[i] = predConfidence_opensetlist[i][1:]\n",
    "    predConfidence_opensetlist[i] = predConfidence_opensetlist[i].detach().cpu().numpy()"
   ]
  },
  {
   "cell_type": "code",
   "execution_count": 14,
   "metadata": {},
   "outputs": [
    {
     "data": {
      "text/plain": [
       "Text(0.5, 1.0, 'trainlabel_to_color')"
      ]
     },
     "execution_count": 14,
     "metadata": {},
     "output_type": "execute_result"
    },
    {
     "data": {
      "image/png": "[encoded data removed]",
      "text/plain": [
       "<Figure size 432x288 with 1 Axes>"
      ]
     },
     "metadata": {
      "needs_background": "light"
     },
     "output_type": "display_data"
    }
   ],
   "source": [
    "A = trainlabel_to_color(trainlabelList.squeeze().detach().cpu().numpy(), trainID2color)\n",
    "plt.imshow(A.astype(np.uint8))\n",
    "plt.axis('off')\n",
    "plt.clim(0, labelList.max())\n",
    "plt.title('trainlabel_to_color')    "
   ]
  },
  {
   "cell_type": "code",
   "execution_count": 15,
   "metadata": {},
   "outputs": [
    {
     "data": {
      "text/plain": [
       "tensor([ 1.,  3.,  4.,  6.,  7.,  8., 11., 17., 20., 21., 24., 26.],\n",
       "       device='cuda:0')"
      ]
     },
     "execution_count": 15,
     "metadata": {},
     "output_type": "execute_result"
    },
    {
     "data": {
      "image/png": "[encoded data removed]",
      "text/plain": [
       "<Figure size 432x288 with 1 Axes>"
      ]
     },
     "metadata": {
      "needs_background": "light"
     },
     "output_type": "display_data"
    }
   ],
   "source": [
    "A = label_to_color(labelList.cpu().numpy().squeeze(), id2color)\n",
    "plt.imshow(A.astype(np.uint8))\n",
    "plt.axis('off')\n",
    "plt.clim(0, labelList.max())\n",
    "plt.title('label_to_color')    \n",
    "\n",
    "labelList.unique()"
   ]
  },
  {
   "cell_type": "markdown",
   "metadata": {},
   "source": [
    "open-set recognition\n",
    "---------\n",
    "\n",
    "GAN for open-set recognition"
   ]
  },
  {
   "cell_type": "code",
   "execution_count": 16,
   "metadata": {},
   "outputs": [
    {
     "name": "stdout",
     "output_type": "stream",
     "text": [
      "selectClassifier_step030_OpenGAN_num1000_w0.20_val.pkl\n",
      "0/29 roc:0.8045542657168512\n",
      "1/29 roc:0.8934519080962876\n",
      "2/29 roc:0.895303637323307\n",
      "3/29 roc:0.8884856603117062\n",
      "4/29 roc:0.8752582770801431\n",
      "5/29 roc:0.8645951547660959\n",
      "6/29 roc:0.9016062609698201\n",
      "7/29 roc:0.8743030888818354\n",
      "8/29 roc:0.9201573332277752\n",
      "9/29 roc:0.9175803657991842\n",
      "10/29 roc:0.9001231791977117\n",
      "11/29 roc:0.9022931083726095\n",
      "12/29 roc:0.9151644697136403\n",
      "13/29 roc:0.8983293563838922\n",
      "14/29 roc:0.9079718413008606\n",
      "15/29 roc:0.9014192120088449\n",
      "16/29 roc:0.8972301902583407\n",
      "17/29 roc:0.9093332890198818\n",
      "18/29 roc:0.8842788285838401\n",
      "19/29 roc:0.8634011060141903\n",
      "20/29 roc:0.9181098164822645\n",
      "21/29 roc:0.9031136943121291\n",
      "22/29 roc:0.9103406352765441\n",
      "23/29 roc:0.9004244134214663\n",
      "24/29 roc:0.9012821125791486\n",
      "25/29 roc:0.905546044493099\n",
      "26/29 roc:0.8820948616764375\n",
      "27/29 roc:0.9095462020058986\n",
      "28/29 roc:0.9149950117974504\n"
     ]
    }
   ],
   "source": [
    "rocList = []\n",
    "filename_to_save_roc = 'selectClassifier_' + project_name + '_val.pkl'\n",
    "print(filename_to_save_roc)\n",
    "num_valimages = 10\n",
    "for bestEpoch_GAN in range(totalEpoch):  \n",
    "    netD = Discriminator(ngpu=ngpu, nc=nc, ndf=ndf).to(device)\n",
    "    path_to_D = os.path.join(save_dir, 'epoch-{}.classifier'.format(bestEpoch_GAN+1))\n",
    "    netD.load_state_dict(torch.load(path_to_D, map_location=lambda storage, loc: storage))\n",
    "    netD.eval();\n",
    "    \n",
    "\n",
    "    predConfidence_closeset = torch.from_numpy(np.array([0])).type(torch.float).view(-1,1)\n",
    "    predConfidence_opensetlist = [torch.from_numpy(np.array([0])).type(torch.float).view(-1,1)]*len(opensetIDlist)\n",
    "    for sample in dataloader_val:    \n",
    "        if count%100==0 and count>0:\n",
    "            print('{}/{}'.format(count, len(dataloader_val)))\n",
    "        count += 1\n",
    "        imageList, labelList = sample\n",
    "        imageList = imageList.to(device)\n",
    "        labelList = labelList.to(device)\n",
    "\n",
    "        labelList = labelList.unsqueeze(1)\n",
    "        labelList = F.interpolate(labelList, scale_factor=0.25, mode='nearest')\n",
    "        labelList = labelList.squeeze()\n",
    "        H, W = labelList.squeeze().shape\n",
    "        trainlabelList = id2trainID_np[labelList.cpu().numpy().reshape(-1,).astype(np.int32)]\n",
    "        trainlabelList = trainlabelList.reshape((1,H,W))\n",
    "        trainlabelList = torch.from_numpy(trainlabelList)\n",
    "\n",
    "        with torch.no_grad():\n",
    "            imageList = imageList.to(device)\n",
    "            logitsTensor = model(imageList).detach().cpu()\n",
    "            featTensor = model.feat4.detach()\n",
    "\n",
    "        allPixList = featTensor.squeeze()\n",
    "        allPixList = allPixList.reshape(allPixList.shape[0], -1).permute(1,0).unsqueeze(-1).unsqueeze(-1).to(device)\n",
    "        with torch.no_grad():\n",
    "            allPixConf = netD(allPixList).view(-1)\n",
    "\n",
    "\n",
    "        ################    close-set pixels    ################\n",
    "        closesetList = trainlabelList.reshape(-1,1)\n",
    "        closesetList = ((closesetList>=0) & (closesetList<=18)).nonzero()\n",
    "        closesetList = closesetList[:,0]    \n",
    "        predConf = allPixConf[closesetList]\n",
    "        predConf = predConf.view(-1,1).detach()    \n",
    "        predConfidence_closeset = torch.cat((predConfidence_closeset, predConf.detach().cpu()), 0)\n",
    "\n",
    "        ################    open-set pixels    ################\n",
    "        for i in range(len(opensetIDlist)):        \n",
    "            clsID = opensetIDlist[i]\n",
    "            tmpMap = (labelList==clsID).type(torch.float32)\n",
    "            tmpCount = tmpMap.sum()    \n",
    "            if tmpCount==0:   \n",
    "                #print('not existing -- ', clsID, tmpCount)\n",
    "                continue\n",
    "\n",
    "            curClsList = labelList.reshape(-1,1)\n",
    "            curClsList = (curClsList==clsID).nonzero()\n",
    "            curClsList = curClsList[:,0]\n",
    "            predConf = allPixConf[curClsList]\n",
    "            predConf = predConf.view(-1,1).detach()\n",
    "            predConfidence_opensetlist[i] = torch.cat((predConfidence_opensetlist[i], predConf.detach().cpu()), 0)              \n",
    "\n",
    "    predConfidence_openset = torch.tensor([])        \n",
    "    for i in range(len(opensetIDlist)):\n",
    "        predConfidence_opensetlist[i] = predConfidence_opensetlist[i][1:].detach().cpu()\n",
    "        if i>=3: # remove \"ego vehicle\", \"out of roi\" and \"rectification border\"\n",
    "            predConfidence_openset = torch.cat((predConfidence_openset, predConfidence_opensetlist[i]),0)\n",
    "        predConfidence_opensetlist[i] = predConfidence_opensetlist[i].numpy()\n",
    "        \n",
    "    predConfidence_closeset = predConfidence_closeset[1:]\n",
    "    predConfidence_closeset = predConfidence_closeset.detach().cpu().numpy()\n",
    "    predConfidence_openset = predConfidence_openset.numpy()\n",
    "    roc_score, roc_to_plot = evaluate_openset(-predConfidence_closeset, -predConfidence_openset)\n",
    "    rocList += [roc_score]\n",
    "    print('{}/{} roc:{}'.format(bestEpoch_GAN, totalEpoch, roc_score))"
   ]
  },
  {
   "cell_type": "code",
   "execution_count": 17,
   "metadata": {},
   "outputs": [
    {
     "name": "stdout",
     "output_type": "stream",
     "text": [
      "0.9201573332277752 8\n"
     ]
    }
   ],
   "source": [
    "bestROC = max(rocList)\n",
    "bestModelIdx = np.argmax(np.asarray(rocList))\n",
    "print(bestROC, bestModelIdx)"
   ]
  },
  {
   "cell_type": "code",
   "execution_count": 18,
   "metadata": {},
   "outputs": [
    {
     "data": {
      "text/plain": [
       "Text(0, 0.5, 'roc on valset')"
      ]
     },
     "execution_count": 18,
     "metadata": {},
     "output_type": "execute_result"
    },
    {
     "data": {
      "image/png": "[encoded data removed]",
      "text/plain": [
       "<Figure size 432x288 with 1 Axes>"
      ]
     },
     "metadata": {
      "needs_background": "light"
     },
     "output_type": "display_data"
    }
   ],
   "source": [
    "plt.plot(list(range(len(rocList))), rocList)\n",
    "plt.xlabel('epoch')\n",
    "plt.ylabel('roc on valset')"
   ]
  },
  {
   "cell_type": "code",
   "execution_count": 19,
   "metadata": {},
   "outputs": [
    {
     "name": "stdout",
     "output_type": "stream",
     "text": [
      "\t100/500\n",
      "\t200/500\n",
      "\t300/500\n",
      "\t400/500\n",
      "\t500/500\n",
      "0.9503467670459994\n"
     ]
    },
    {
     "data": {
      "image/png": "[encoded data removed]",
      "text/plain": [
       "<Figure size 432x288 with 1 Axes>"
      ]
     },
     "metadata": {
      "needs_background": "light"
     },
     "output_type": "display_data"
    }
   ],
   "source": [
    "netD = Discriminator(ngpu=ngpu, nc=nc, ndf=ndf).to(device)\n",
    "path_to_D = os.path.join(save_dir, 'epoch-{}.classifier'.format(bestModelIdx+1))\n",
    "netD.load_state_dict(torch.load(path_to_D, map_location=lambda storage, loc: storage))\n",
    "netD.eval();\n",
    "\n",
    "num_valimages = 10\n",
    "\n",
    "\n",
    "predConfidence_closeset = torch.from_numpy(np.array([0])).type(torch.float).view(-1,1)\n",
    "predConfidence_opensetlist = [torch.from_numpy(np.array([0])).type(torch.float).view(-1,1)]*len(opensetIDlist)\n",
    "count = 0\n",
    "for sample in dataloader_val:   \n",
    "    count += 1 \n",
    "    if count<=num_valimages: \n",
    "        continue\n",
    "    if count%100==0 and count>0:\n",
    "        print('\\t{}/{}'.format(count, len(dataloader_val)))\n",
    "    imageList, labelList = sample\n",
    "    imageList = imageList.to(device)\n",
    "    labelList = labelList.to(device)\n",
    "\n",
    "    labelList = labelList.unsqueeze(1)\n",
    "    labelList = F.interpolate(labelList, scale_factor=0.25, mode='nearest')\n",
    "    labelList = labelList.squeeze()\n",
    "    H, W = labelList.squeeze().shape\n",
    "    trainlabelList = id2trainID_np[labelList.cpu().numpy().reshape(-1,).astype(np.int32)]\n",
    "    trainlabelList = trainlabelList.reshape((1,H,W))\n",
    "    trainlabelList = torch.from_numpy(trainlabelList)\n",
    "\n",
    "    with torch.no_grad():\n",
    "        imageList = imageList.to(device)\n",
    "        logitsTensor = model(imageList).detach().cpu()        \n",
    "        featTensor = model.feat4.detach()\n",
    "\n",
    "\n",
    "    allPixList = featTensor.squeeze()\n",
    "    allPixList = allPixList.reshape(allPixList.shape[0], -1).permute(1,0).unsqueeze(-1).unsqueeze(-1).to(device)\n",
    "    with torch.no_grad():\n",
    "        allPixConf = netD(allPixList).view(-1)\n",
    "\n",
    "\n",
    "    ################    close-set pixels    ################\n",
    "    closesetList = trainlabelList.reshape(-1,1)\n",
    "    closesetList = ((closesetList>=0) & (closesetList<=18)).nonzero()\n",
    "    closesetList = closesetList[:,0]    \n",
    "    predConf = allPixConf[closesetList]\n",
    "    predConf = predConf.view(-1,1).detach()    \n",
    "    predConfidence_closeset = torch.cat((predConfidence_closeset, predConf.detach().cpu()), 0)\n",
    "\n",
    "    ################    open-set pixels    ################\n",
    "    for i in range(len(opensetIDlist)):        \n",
    "        clsID = opensetIDlist[i]\n",
    "        tmpMap = (labelList==clsID).type(torch.float32)\n",
    "        tmpCount = tmpMap.sum()    \n",
    "        if tmpCount==0:   \n",
    "            #print('not existing -- ', clsID, tmpCount)\n",
    "            continue\n",
    "\n",
    "        curClsList = labelList.reshape(-1,1)\n",
    "        curClsList = (curClsList==clsID).nonzero()\n",
    "        curClsList = curClsList[:,0]\n",
    "        predConf = allPixConf[curClsList]\n",
    "        predConf = predConf.view(-1,1).detach()\n",
    "        predConfidence_opensetlist[i] = torch.cat((predConfidence_opensetlist[i], predConf.detach().cpu()), 0)              \n",
    "\n",
    "for i in range(len(opensetIDlist)):\n",
    "    predConfidence_opensetlist[i] = predConfidence_opensetlist[i][1:]\n",
    "    predConfidence_opensetlist[i] = predConfidence_opensetlist[i].detach().cpu().numpy()                    \n",
    "\n",
    "predConfidence_closeset = predConfidence_closeset[1:]\n",
    "predConfidence_closeset = predConfidence_closeset.detach().cpu().numpy()\n",
    "    \n",
    "predConfidence_openset = np.concatenate(predConfidence_opensetlist, 0)\n",
    "roc_score, roc_to_plot = evaluate_openset(-predConfidence_closeset, -predConfidence_openset)\n",
    "\n",
    "\n",
    "plt.plot(roc_to_plot['fp'], roc_to_plot['tp'])\n",
    "plt.grid('on')\n",
    "plt.xlabel('False Positive Rate')\n",
    "plt.ylabel('True Positive Rate')\n",
    "plt.title('ROC score {:.5f}'.format(roc_score))\n",
    "print(roc_score)"
   ]
  },
  {
   "cell_type": "code",
   "execution_count": 20,
   "metadata": {},
   "outputs": [
    {
     "name": "stdout",
     "output_type": "stream",
     "text": [
      "0.8756813035477743\n"
     ]
    },
    {
     "data": {
      "image/png": "[encoded data removed]",
      "text/plain": [
       "<Figure size 432x288 with 1 Axes>"
      ]
     },
     "metadata": {
      "needs_background": "light"
     },
     "output_type": "display_data"
    }
   ],
   "source": [
    "useless_void = ['unlabeled', 'ego vehicle', 'rectification border', 'out of roi', 'license plate']\n",
    "\n",
    "meaningful_openset = np.asarray([0.]).reshape(1,1)\n",
    "for i in range(len(predConfidence_opensetlist)):    \n",
    "    clsID = opensetIDlist[i]\n",
    "    \n",
    "    if id2name[clsID] not in useless_void:\n",
    "        meaningful_openset = np.concatenate((meaningful_openset, predConfidence_opensetlist[i]), 0)\n",
    "        \n",
    "        \n",
    "        \n",
    "roc_score, roc_to_plot = evaluate_openset(-predConfidence_closeset, -meaningful_openset)\n",
    "plt.plot(roc_to_plot['fp'], roc_to_plot['tp'])\n",
    "plt.grid('on')\n",
    "plt.xlabel('False Positive Rate')\n",
    "plt.ylabel('True Positive Rate')\n",
    "plt.title('ROC score {:.5f}'.format(roc_score))\n",
    "print(roc_score)"
   ]
  },
  {
   "cell_type": "code",
   "execution_count": null,
   "metadata": {},
   "outputs": [],
   "source": [
    "torch.cuda.empty_cache()"
   ]
  },
  {
   "cell_type": "code",
   "execution_count": null,
   "metadata": {},
   "outputs": [],
   "source": []
  }
 ],
 "metadata": {
  "kernelspec": {
   "display_name": "Python 3",
   "language": "python",
   "name": "python3"
  },
  "language_info": {
   "codemirror_mode": {
    "name": "ipython",
    "version": 3
   },
   "file_extension": ".py",
   "mimetype": "text/x-python",
   "name": "python",
   "nbconvert_exporter": "python",
   "pygments_lexer": "ipython3",
   "version": "3.7.4"
  }
 },
 "nbformat": 4,
 "nbformat_minor": 2
}
